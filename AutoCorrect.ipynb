{
 "cells": [
  {
   "cell_type": "code",
   "execution_count": 1,
   "id": "503b95b0",
   "metadata": {},
   "outputs": [
    {
     "name": "stdout",
     "output_type": "stream",
     "text": [
      "Collecting spello\n",
      "  Downloading spello-1.3.0-py3-none-any.whl (25 kB)\n",
      "Requirement already satisfied: nltk<4,>=3.4.5 in c:\\softwares\\python 3.10.5\\lib\\site-packages (from spello) (3.8.1)\n",
      "Requirement already satisfied: click in c:\\softwares\\python 3.10.5\\lib\\site-packages (from nltk<4,>=3.4.5->spello) (8.1.3)\n",
      "Requirement already satisfied: joblib in c:\\softwares\\python 3.10.5\\lib\\site-packages (from nltk<4,>=3.4.5->spello) (1.2.0)\n",
      "Requirement already satisfied: regex>=2021.8.3 in c:\\softwares\\python 3.10.5\\lib\\site-packages (from nltk<4,>=3.4.5->spello) (2022.10.31)\n",
      "Requirement already satisfied: tqdm in c:\\softwares\\python 3.10.5\\lib\\site-packages (from nltk<4,>=3.4.5->spello) (4.64.1)\n",
      "Requirement already satisfied: colorama in c:\\softwares\\python 3.10.5\\lib\\site-packages (from click->nltk<4,>=3.4.5->spello) (0.4.6)\n",
      "Installing collected packages: spello\n",
      "Successfully installed spello-1.3.0\n"
     ]
    }
   ],
   "source": [
    "!pip install spello"
   ]
  },
  {
   "cell_type": "code",
   "execution_count": 2,
   "id": "77e41543",
   "metadata": {},
   "outputs": [],
   "source": [
    "from spello.model import SpellCorrectionModel"
   ]
  },
  {
   "cell_type": "code",
   "execution_count": 4,
   "id": "f3641340",
   "metadata": {},
   "outputs": [],
   "source": [
    "sp = SpellCorrectionModel(language=\"en\")"
   ]
  },
  {
   "cell_type": "code",
   "execution_count": 5,
   "id": "3fd69b4d",
   "metadata": {},
   "outputs": [],
   "source": [
    "with open (\"words.txt\") as file:\n",
    "    data = file.readlines()\n",
    "\n",
    "data = [i.strip() for i in data]"
   ]
  },
  {
   "cell_type": "code",
   "execution_count": 6,
   "id": "1182b284",
   "metadata": {},
   "outputs": [
    {
     "name": "stdout",
     "output_type": "stream",
     "text": [
      "Spello training started..\n",
      "Context model training started ...\n",
      "Symspell training started ...\n",
      "Phoneme training started ...\n",
      "Spello training completed successfully ...\n"
     ]
    }
   ],
   "source": [
    "sp.train(data)"
   ]
  },
  {
   "cell_type": "code",
   "execution_count": 14,
   "id": "b7b564a5",
   "metadata": {},
   "outputs": [
    {
     "data": {
      "text/plain": [
       "'.\\\\model.pkl'"
      ]
     },
     "execution_count": 14,
     "metadata": {},
     "output_type": "execute_result"
    }
   ],
   "source": [
    "sp.save(\"\")"
   ]
  },
  {
   "cell_type": "code",
   "execution_count": 15,
   "id": "e2f38051",
   "metadata": {},
   "outputs": [
    {
     "data": {
      "text/plain": [
       "<spello.model.SpellCorrectionModel at 0x21726748e50>"
      ]
     },
     "execution_count": 15,
     "metadata": {},
     "output_type": "execute_result"
    }
   ],
   "source": [
    "sp.load(\"model.pkl\")"
   ]
  },
  {
   "cell_type": "code",
   "execution_count": 16,
   "id": "22a16cb1",
   "metadata": {},
   "outputs": [
    {
     "data": {
      "text/plain": [
       "{'original_text': 'thsi',\n",
       " 'spell_corrected_text': 'this',\n",
       " 'correction_dict': {'thsi': 'this'}}"
      ]
     },
     "execution_count": 16,
     "metadata": {},
     "output_type": "execute_result"
    }
   ],
   "source": [
    "sentence = input(\"Enter the sentence/word : \")"
   ]
  },
  {
   "cell_type": "code",
   "execution_count": null,
   "id": "fc71a1fc",
   "metadata": {},
   "outputs": [],
   "source": [
    "words = sentence.split()"
   ]
  }
 ],
 "metadata": {
  "kernelspec": {
   "display_name": "Python 3 (ipykernel)",
   "language": "python",
   "name": "python3"
  },
  "language_info": {
   "codemirror_mode": {
    "name": "ipython",
    "version": 3
   },
   "file_extension": ".py",
   "mimetype": "text/x-python",
   "name": "python",
   "nbconvert_exporter": "python",
   "pygments_lexer": "ipython3",
   "version": "3.10.5"
  }
 },
 "nbformat": 4,
 "nbformat_minor": 5
}

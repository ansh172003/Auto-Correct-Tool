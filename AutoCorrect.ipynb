{
 "cells": [
  {
   "cell_type": "code",
   "execution_count": null,
   "id": "503b95b0",
   "metadata": {},
   "outputs": [],
   "source": [
    "#!pip install pyenchant"
   ]
  },
  {
   "cell_type": "code",
   "execution_count": null,
   "id": "77e41543",
   "metadata": {},
   "outputs": [],
   "source": [
    "import enchant\n",
    "english_dict = enchant.Dict(\"en_US\")"
   ]
  },
  {
   "cell_type": "code",
   "execution_count": null,
   "id": "f3641340",
   "metadata": {},
   "outputs": [],
   "source": [
    "def suggest_correction(user_input):\n",
    "    if english_dict.check(user_input):\n",
    "        return None \n",
    "\n",
    "    suggestions = english_dict.suggest(user_input)\n",
    "\n",
    "    if len(suggestions) > 0:\n",
    "        return suggestions[0] \n",
    "    else:\n",
    "        return None  "
   ]
  },
  {
   "cell_type": "code",
   "execution_count": null,
   "id": "3fd69b4d",
   "metadata": {},
   "outputs": [],
   "source": [
    "sentence = input(\"Enter the sentence : \")"
   ]
  },
  {
   "cell_type": "code",
   "execution_count": null,
   "id": "1182b284",
   "metadata": {},
   "outputs": [],
   "source": [
    "words = sentence.split()\n",
    "\n",
    "corrections = []\n",
    "for word in words:\n",
    "    corrected = suggest_correction(word)\n",
    "    if corrected:\n",
    "        corrections.append(corrected)\n",
    "    else:\n",
    "        corrections.append(word)\n",
    "\n",
    "corrected_sentence = \" \".join(corrections)\n",
    "print(f\"Corrected sentence: {corrected_sentence}\")"
   ]
  }
 ],
 "metadata": {
  "kernelspec": {
   "display_name": "Python 3 (ipykernel)",
   "language": "python",
   "name": "python3"
  },
  "language_info": {
   "codemirror_mode": {
    "name": "ipython",
    "version": 3
   },
   "file_extension": ".py",
   "mimetype": "text/x-python",
   "name": "python",
   "nbconvert_exporter": "python",
   "pygments_lexer": "ipython3",
   "version": "3.10.5"
  }
 },
 "nbformat": 4,
 "nbformat_minor": 5
}
